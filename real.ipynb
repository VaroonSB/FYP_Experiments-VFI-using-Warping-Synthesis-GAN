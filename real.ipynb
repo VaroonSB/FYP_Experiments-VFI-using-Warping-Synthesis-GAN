{
 "cells": [
  {
   "cell_type": "code",
   "execution_count": 2,
   "metadata": {},
   "outputs": [],
   "source": [
    "import sys\n",
    "import os\n",
    "import cv2\n",
    "import tensorflow.keras.backend as K\n",
    "import numpy as np\n",
    "from numpy import asarray\n",
    "from core.networks_simple import UNET\n",
    "from PIL import Image as im\n",
    "K.set_image_data_format('channels_first')\n",
    "os.environ['KERAS_BACKEND'] = \"tensorflow\"\n",
    "vid_arr = np.zeros(shape=(2, 640, 352, 3), dtype=\"uint8\")\n",
    "image1 = im.open('./balloon/real/out-001.png')\n",
    "image2 = im.open('./balloon/real/out-005.png')\n",
    "vid_arr[0] = cv2.resize(asarray(image1), (352, 640))\n",
    "vid_arr[1] = cv2.resize(asarray(image2), (352, 640))\n",
    "\n",
    "model = UNET((6, 640, 352))\n",
    "model.load_weights('./model_weights_for 512x256 5ep simple unet/model_weights.hdf5')\n",
    "\n",
    "pred = model.predict(np.expand_dims(np.transpose(np.concatenate((vid_arr[0], vid_arr[1]), axis=2)/255., (2,0,1)), axis=0))\n",
    "res = (np.transpose(pred[0], (1, 2, 0))*255).astype(\"uint8\")\n",
    "img = im.fromarray(res)\n",
    "img.save('./balloon/real/out.png')\n",
    "# img.resize((512, 512)).save('./now/water/out5.png')\n",
    "# print(len(res))"
   ]
  },
  {
   "cell_type": "code",
   "execution_count": 35,
   "metadata": {},
   "outputs": [],
   "source": [
    "import math\n",
    "from skimage.metrics import structural_similarity as compare_ssim\n",
    "def calculateMetrics(gt, result):\n",
    "  psnr(gt, result)\n",
    "  ssim = calculate_ssim(gt, result)\n",
    "  print(f\"SSIM: {ssim}%\")\n",
    "\n",
    "def psnr(img1, img2):\n",
    "  mse = np.mean((img1 - img2) ** 2)\n",
    "  if mse == 0:\n",
    "    return 100\n",
    "  # print(f\"MSE: {mse}\")\n",
    "  PIXEL_MAX = 255.0\n",
    "  psnr_val = 20 * math.log10(PIXEL_MAX / math.sqrt(mse))\n",
    "  print(f\"PSNR: {psnr_val}\")\n",
    "\n",
    "def calculate_ssim(gt, result):\n",
    "  grayGT = cv2.cvtColor(gt, cv2.COLOR_BGR2GRAY)\n",
    "  grayRes = cv2.cvtColor(result, cv2.COLOR_BGR2GRAY)\n",
    "  (score, diff) = compare_ssim(grayGT, grayRes, full=True)\n",
    "  diff = (diff * 255).astype(\"uint8\")\n",
    "  return score\n",
    "\n"
   ]
  },
  {
   "cell_type": "code",
   "execution_count": 25,
   "metadata": {},
   "outputs": [
    {
     "name": "stdout",
     "output_type": "stream",
     "text": [
      "MSE: 30.665380859375\n",
      "PSNR: 33.26431997939367\n",
      "SSIM: 0.9109635637145302%\n"
     ]
    }
   ],
   "source": [
    "gt = cv2.imread('./balloon/real/out-002.png')\n",
    "pred = cv2.imread('./balloon/real/out.png')\n",
    "calculateMetrics(gt, pred)"
   ]
  },
  {
   "cell_type": "code",
   "execution_count": 10,
   "metadata": {},
   "outputs": [],
   "source": [
    "import sys\n",
    "import os\n",
    "import cv2\n",
    "import tensorflow.keras.backend as K\n",
    "import numpy as np\n",
    "from numpy import asarray\n",
    "from core.networks_simple import UNET\n",
    "from PIL import Image as im\n",
    "K.set_image_data_format('channels_first')\n",
    "os.environ['KERAS_BACKEND'] = \"tensorflow\"\n"
   ]
  },
  {
   "cell_type": "code",
   "execution_count": 22,
   "metadata": {},
   "outputs": [],
   "source": [
    "\n",
    "# print(len(res))\n",
    "vid_arr = np.zeros(shape=(2, 640, 352, 3), dtype=\"uint8\")\n",
    "image1 = im.open('./balloon/real/out-001.png')\n",
    "image2 = im.open('./balloon/real/out-003.png')\n",
    "vid_arr[0] = cv2.resize(asarray(image1), (352, 640))\n",
    "vid_arr[1] = cv2.resize(asarray(image2), (352, 640))\n"
   ]
  },
  {
   "cell_type": "code",
   "execution_count": 23,
   "metadata": {},
   "outputs": [],
   "source": [
    "model = UNET((6, 640, 352))\n",
    "model.load_weights('./model_weights_for 512x256 5ep simple unet/model_weights.hdf5')\n"
   ]
  },
  {
   "cell_type": "code",
   "execution_count": 24,
   "metadata": {},
   "outputs": [],
   "source": [
    "  \n",
    "pred = model.predict(np.expand_dims(np.transpose(np.concatenate((vid_arr[0], vid_arr[1]), axis=2)/255., (2,0,1)), axis=0))\n",
    "res = (np.transpose(pred[0], (1, 2, 0))*255).astype(\"uint8\")\n",
    "img = im.fromarray(res)\n",
    "img.save('./balloon/real/rec/out.png')\n"
   ]
  },
  {
   "cell_type": "code",
   "execution_count": 26,
   "metadata": {},
   "outputs": [],
   "source": [
    "def recursive(frame1, frame2, num_recursions):\n",
    "  if num_recursions == 0:\n",
    "    yield frame1\n",
    "  else:\n",
    "    # Adds the batch dimension to all inputs before calling the interpolator,\n",
    "    # and remove it afterwards.\n",
    "    # time = np.full(shape=(1,), fill_value=0.5, dtype=np.float32)\n",
    "    pred = model.predict(np.expand_dims(np.transpose(np.concatenate((frame1, frame2), axis=2)/255., (2,0,1)), axis=0))\n",
    "    mid_frame = (np.transpose(pred[0], (1, 2, 0))*255).astype(\"uint8\")\n",
    "    yield from recursive(frame1, mid_frame, num_recursions - 1)\n",
    "    yield from recursive(mid_frame, frame2, num_recursions - 1)\n"
   ]
  },
  {
   "cell_type": "code",
   "execution_count": 39,
   "metadata": {},
   "outputs": [
    {
     "data": {
      "text/plain": [
       "5"
      ]
     },
     "execution_count": 39,
     "metadata": {},
     "output_type": "execute_result"
    }
   ],
   "source": [
    "result = list(recursive(vid_arr[0], vid_arr[1], 2))\n",
    "result.append(vid_arr[1])\n",
    "len(result)"
   ]
  },
  {
   "cell_type": "code",
   "execution_count": 41,
   "metadata": {},
   "outputs": [],
   "source": [
    "for i,img in enumerate(result):\n",
    "  image = im.fromarray(img)\n",
    "  image.save(f'./balloon/real/rec/{i}.png')\n"
   ]
  },
  {
   "cell_type": "code",
   "execution_count": 42,
   "metadata": {},
   "outputs": [
    {
     "name": "stdout",
     "output_type": "stream",
     "text": [
      "PSNR: 35.2516582630667\n",
      "SSIM: 0.9149156553871434%\n",
      "None\n",
      "PSNR: 32.24244130475458\n",
      "SSIM: 0.8975399024036226%\n",
      "None\n",
      "PSNR: 33.58313431502054\n",
      "SSIM: 0.9212649886683834%\n",
      "None\n",
      "PSNR: 32.27587569328877\n",
      "SSIM: 0.8966286585768182%\n",
      "None\n",
      "PSNR: 34.97870251720799\n",
      "SSIM: 0.9076569129998047%\n",
      "None\n"
     ]
    }
   ],
   "source": [
    "for i in range (5):\n",
    "  gt = cv2.imread('./balloon/real/out-002.png')\n",
    "  pre = cv2.imread(f'./balloon/real/rec/{i}.png')\n",
    "  print(calculateMetrics(pre, gt))"
   ]
  }
 ],
 "metadata": {
  "interpreter": {
   "hash": "718d2fdbd2e4364d86b82e2681e711484f5b3e9195c217f68eb9a5465be33cfe"
  },
  "kernelspec": {
   "display_name": "Python 3.9.7 ('SuperSloMo')",
   "language": "python",
   "name": "python3"
  },
  "language_info": {
   "codemirror_mode": {
    "name": "ipython",
    "version": 3
   },
   "file_extension": ".py",
   "mimetype": "text/x-python",
   "name": "python",
   "nbconvert_exporter": "python",
   "pygments_lexer": "ipython3",
   "version": "3.9.7"
  },
  "orig_nbformat": 4
 },
 "nbformat": 4,
 "nbformat_minor": 2
}
