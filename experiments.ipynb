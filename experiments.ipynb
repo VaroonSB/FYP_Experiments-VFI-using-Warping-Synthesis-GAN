{
 "cells": [
  {
   "cell_type": "code",
   "execution_count": 1,
   "metadata": {},
   "outputs": [],
   "source": [
    "import sys\n",
    "import os\n",
    "import cv2\n",
    "import tensorflow.keras.backend as K\n",
    "import numpy as np\n",
    "from numpy import asarray\n",
    "from core.networks_simple import UNET\n",
    "from PIL import Image as im\n",
    "K.set_image_data_format('channels_first')\n",
    "os.environ['KERAS_BACKEND'] = \"tensorflow\"\n"
   ]
  },
  {
   "cell_type": "code",
   "execution_count": 3,
   "metadata": {},
   "outputs": [],
   "source": [
    "\n",
    "\n",
    "\n",
    "# print(len(res))\n",
    "vid_arr = np.zeros(shape=(2, 832, 928, 3), dtype=\"uint8\")\n",
    "image1 = im.open('./dynamic/balloon_img/000350.png')\n",
    "image2 = im.open('./dynamic/balloon_img/000399.png')\n",
    "vid_arr[0] = cv2.resize(asarray(image1), (928, 832))\n",
    "vid_arr[1] = cv2.resize(asarray(image2), (928, 832))\n"
   ]
  },
  {
   "cell_type": "code",
   "execution_count": 2,
   "metadata": {},
   "outputs": [],
   "source": [
    "\n",
    "\n",
    "model = UNET((6, 832, 928))\n",
    "model.load_weights('./model_weights_for 512x256 5ep simple unet/model_weights.hdf5')\n"
   ]
  },
  {
   "cell_type": "code",
   "execution_count": 4,
   "metadata": {},
   "outputs": [],
   "source": [
    "\n",
    "\n",
    "  \n",
    "pred = model.predict(np.expand_dims(np.transpose(np.concatenate((vid_arr[0], vid_arr[1]), axis=2)/255., (2,0,1)), axis=0))\n",
    "res = (np.transpose(pred[0], (1, 2, 0))*255).astype(\"uint8\")\n",
    "img = im.fromarray(res)\n",
    "img.save('./experiments/i50/out.png')\n"
   ]
  },
  {
   "cell_type": "code",
   "execution_count": 5,
   "metadata": {},
   "outputs": [],
   "source": [
    "\n",
    "\n",
    "def recursive(frame1, frame2, num_recursions):\n",
    "  if num_recursions == 0:\n",
    "    yield frame1\n",
    "  else:\n",
    "    # Adds the batch dimension to all inputs before calling the interpolator,\n",
    "    # and remove it afterwards.\n",
    "    # time = np.full(shape=(1,), fill_value=0.5, dtype=np.float32)\n",
    "    pred = model.predict(np.expand_dims(np.transpose(np.concatenate((frame1, frame2), axis=2)/255., (2,0,1)), axis=0))\n",
    "    mid_frame = (np.transpose(pred[0], (1, 2, 0))*255).astype(\"uint8\")\n",
    "    yield from recursive(frame1, mid_frame, num_recursions - 1)\n",
    "    yield from recursive(mid_frame, frame2, num_recursions - 1)\n"
   ]
  },
  {
   "cell_type": "code",
   "execution_count": 8,
   "metadata": {},
   "outputs": [],
   "source": [
    "\n",
    "\n",
    "result = list(recursive(vid_arr[0], vid_arr[1], 6))\n",
    "result.append(vid_arr[1])\n",
    "len(result)\n",
    "for i,img in enumerate(result):\n",
    "  image = im.fromarray(img)\n",
    "  image.save(f'./experiments/i50/{i}.png')\n"
   ]
  },
  {
   "cell_type": "code",
   "execution_count": 6,
   "metadata": {},
   "outputs": [],
   "source": [
    "\n",
    "import math\n",
    "from skimage.metrics import structural_similarity as compare_ssim\n",
    "def calculateMetrics(gt, result):\n",
    "  psnr_val = psnr(gt, result)\n",
    "  ssim = calculate_ssim(gt, result)\n",
    "  print(psnr_val,',',ssim)\n",
    "  # print(f\"SSIM: {ssim}%\")\n",
    "\n",
    "def psnr(img1, img2):\n",
    "  mse = np.mean((img1 - img2) ** 2)\n",
    "  if mse == 0:\n",
    "    return 100\n",
    "  # print(f\"MSE: {mse}\")\n",
    "  PIXEL_MAX = 255.0\n",
    "  psnr_val = 20 * math.log10(PIXEL_MAX / math.sqrt(mse))\n",
    "  return psnr_val\n",
    "  # print(f\"PSNR: {psnr_val}\")\n",
    "\n",
    "def calculate_ssim(gt, result):\n",
    "  grayGT = cv2.cvtColor(gt, cv2.COLOR_BGR2GRAY)\n",
    "  grayRes = cv2.cvtColor(result, cv2.COLOR_BGR2GRAY)\n",
    "  (score, diff) = compare_ssim(grayGT, grayRes, full=True)\n",
    "  diff = (diff * 255).astype(\"uint8\")\n",
    "  return score\n"
   ]
  },
  {
   "cell_type": "code",
   "execution_count": 20,
   "metadata": {},
   "outputs": [
    {
     "name": "stdout",
     "output_type": "stream",
     "text": [
      "100 , 1.0\n",
      "32.5780988567027 , 0.8409386327654298\n",
      "32.59643570034107 , 0.8412373197818254\n",
      "31.560534931996365 , 0.7659253372792311\n",
      "32.54984000011189 , 0.8417581241321583\n",
      "31.18589098624308 , 0.7432680229060902\n",
      "31.461976769903572 , 0.766513597265516\n",
      "31.104872661507336 , 0.7440945529285021\n",
      "32.200635707092225 , 0.8416288252780004\n",
      "30.92286132162849 , 0.7366092670939784\n",
      "30.963208487505938 , 0.7433968340268481\n",
      "30.57290998578398 , 0.7121180398601296\n",
      "31.09419962019836 , 0.7656235652849404\n",
      "30.492428980392564 , 0.7115816315799935\n",
      "30.757695527643577 , 0.7424535850551718\n",
      "30.615250848105624 , 0.735363996035793\n",
      "31.46744257887208 , 0.8329021112791459\n",
      "30.519860156559453 , 0.731776963576601\n",
      "30.508082516930656 , 0.7326412926768753\n",
      "30.1688858528344 , 0.6985969016479737\n",
      "30.518613367708664 , 0.736513163473579\n",
      "30.038258281435738 , 0.688974866120767\n",
      "30.20489826095716 , 0.7046176002420544\n",
      "30.074321811635944 , 0.694323891064002\n",
      "30.608610798217242 , 0.7495471598531408\n",
      "30.031194799033063 , 0.6918262993168478\n",
      "30.107606453386154 , 0.6989975948991947\n",
      "29.908226039071323 , 0.6814150565970981\n",
      "30.328378495497486 , 0.7224476882195271\n",
      "29.955541406164862 , 0.685397914483813\n",
      "30.220797575734753 , 0.7132625262717105\n",
      "30.177526915231848 , 0.7098325727428763\n",
      "31.03257483862317 , 0.7831200713472857\n",
      "30.162947382477263 , 0.707321001166003\n",
      "30.165003992230584 , 0.705175614839251\n",
      "29.863370568156995 , 0.6731035249382238\n",
      "30.168411000224197 , 0.7008367785578764\n",
      "29.74529183695257 , 0.6597179729130516\n",
      "29.8771169855616 , 0.6680498712865534\n",
      "29.754640346041633 , 0.6568108203730046\n",
      "30.201731188438977 , 0.6930830595027468\n",
      "29.715232871485185 , 0.6506677535351771\n",
      "29.77707822184534 , 0.6519652091374265\n",
      "29.602521558257408 , 0.6367141425816037\n",
      "29.93080456021147 , 0.6591172095126797\n",
      "29.61821972537029 , 0.6340189018500174\n",
      "29.831066336306833 , 0.6471692172453472\n",
      "29.787333726612395 , 0.6427990861208073\n",
      "30.42051376455913 , 0.6853744982088938\n",
      "29.793843865989842 , 0.6400525022485096\n",
      "29.835222542103658 , 0.6385145741871613\n",
      "29.624573218467166 , 0.6199620208834722\n",
      "29.936227445121535 , 0.6388414181853564\n",
      "29.5877364775339 , 0.6128509120258764\n",
      "29.747508384411617 , 0.6212715338664996\n",
      "29.665337728742255 , 0.6151132991442738\n",
      "30.195368252736987 , 0.6514656530857645\n",
      "29.6851704533891 , 0.6132618696629186\n",
      "29.78614115367487 , 0.617414584648274\n",
      "29.638525735439618 , 0.6052866551292673\n",
      "30.09662664776624 , 0.6384665828053276\n",
      "29.72955421315418 , 0.608426567097974\n",
      "30.061020312263878 , 0.6329766863225343\n",
      "30.04526310948327 , 0.630536339262047\n",
      "31.318017821661183 , 0.666414215712066\n"
     ]
    }
   ],
   "source": [
    "\n",
    "for i in range (65):\n",
    "  gt = cv2.imread('./experiments/i50/0.png')\n",
    "  gt_res = cv2.resize(gt, (928, 832))\n",
    "  pre = cv2.imread(f'./experiments/i50/{i}.png')\n",
    "  calculateMetrics(pre, gt_res)"
   ]
  },
  {
   "cell_type": "code",
   "execution_count": 23,
   "metadata": {},
   "outputs": [
    {
     "name": "stdout",
     "output_type": "stream",
     "text": [
      "31.318017821661183 , 0.666414215712066\n",
      "30.06379355511831 , 0.5735508790927173\n",
      "30.080265721260062 , 0.5747028298814609\n",
      "29.736293066860004 , 0.5280560421769702\n",
      "30.120385750848996 , 0.5779958658663471\n",
      "29.635470631565852 , 0.516285993829315\n",
      "29.79991714714813 , 0.533026356778944\n",
      "29.67449404284144 , 0.52024971790231\n",
      "30.22339376225687 , 0.5882412732417334\n",
      "29.655391036288165 , 0.5187797581985482\n",
      "29.733887422606294 , 0.5256428286069623\n",
      "29.54009262320088 , 0.5064143405287483\n",
      "29.923081227272675 , 0.5484309116777876\n",
      "29.573173004932457 , 0.5108516534572112\n",
      "29.802508878626497 , 0.5377360893274716\n",
      "29.75937738630465 , 0.535227124762453\n",
      "30.444183444911598 , 0.6230868408220901\n",
      "29.773547359015055 , 0.5379725680543804\n",
      "29.81822295761774 , 0.5420782529316692\n",
      "29.577010274661546 , 0.5163353485846528\n",
      "29.91332863296805 , 0.5553802547037935\n",
      "29.529050329208076 , 0.5150115362805515\n",
      "29.706956215522837 , 0.5351006065906359\n",
      "29.618384487193627 , 0.5293339085643379\n",
      "30.135333084964252 , 0.5994967983535888\n",
      "29.644961716512633 , 0.5351980987119068\n",
      "29.75801454000451 , 0.549061826903381\n",
      "29.595410880292956 , 0.5334593893274513\n",
      "30.039426675505105 , 0.5954213194832663\n",
      "29.68813030569674 , 0.5486694713159047\n",
      "29.993859472025388 , 0.5955936344420303\n",
      "29.969674902174535 , 0.5961577519655306\n",
      "30.919215874898356 , 0.7433098758079536\n",
      "29.993796299126693 , 0.6017118628006843\n",
      "30.017917984883432 , 0.6055144240508439\n",
      "29.697977407755754 , 0.5614931912435661\n",
      "30.079083676406746 , 0.6168964110555464\n",
      "29.614264096831736 , 0.5543627221493178\n",
      "29.793442583640495 , 0.5778471110102861\n",
      "29.681032457516846 , 0.5666181159486641\n",
      "30.291003572236058 , 0.6530137566849606\n",
      "29.687760596208406 , 0.5703237103163106\n",
      "29.790107826129063 , 0.5839212362467745\n",
      "29.59706617677813 , 0.5624359237435204\n",
      "30.058788606563205 , 0.628199976642548\n",
      "29.66710490541978 , 0.5755464515122939\n",
      "29.96434661708438 , 0.6220884747803577\n",
      "29.916498204734374 , 0.6209281047530313\n",
      "30.92076718710986 , 0.7689964009938292\n",
      "29.978724614212165 , 0.6290837288060989\n",
      "30.051314988006872 , 0.6393074774710197\n",
      "29.769775707507563 , 0.5982913620734291\n",
      "30.26754289593345 , 0.6728052197271831\n",
      "29.78077279862579 , 0.6013515631490793\n",
      "30.068503605884068 , 0.6444274183779324\n",
      "29.99361047132352 , 0.6365469158694984\n",
      "31.022938456468516 , 0.7818830508942072\n",
      "30.13705259974619 , 0.6503081667488918\n",
      "30.38636594031352 , 0.6819870863985974\n",
      "30.183459320476317 , 0.6513754184202631\n",
      "31.242387258740436 , 0.7871157647268863\n",
      "30.541462315039553 , 0.6851647608898417\n",
      "31.449903007861742 , 0.788993166662631\n",
      "31.550067941993373 , 0.7896196747718397\n",
      "100 , 1.0\n"
     ]
    }
   ],
   "source": [
    "\n",
    "for i in range (65):\n",
    "  gt = cv2.imread('./experiments/i50/64.png')\n",
    "  gt_res = cv2.resize(gt, (928, 832))\n",
    "  pre = cv2.imread(f'./experiments/i50/{i}.png')\n",
    "  # print(64 ,i)\n",
    "  calculateMetrics(pre, gt_res)"
   ]
  },
  {
   "cell_type": "code",
   "execution_count": 26,
   "metadata": {},
   "outputs": [],
   "source": [
    "import sys\n",
    "import os\n",
    "import cv2\n",
    "import tensorflow.keras.backend as K\n",
    "import numpy as np\n",
    "from numpy import asarray\n",
    "from core.networks_simple import UNET\n",
    "from PIL import Image as im\n",
    "K.set_image_data_format('channels_first')\n",
    "os.environ['KERAS_BACKEND'] = \"tensorflow\"\n",
    "\n",
    "\n",
    "\n",
    "\n",
    "# print(len(res))\n",
    "vid_arr = np.zeros(shape=(2, 1056, 1056, 3), dtype=\"uint8\")\n",
    "image1 = im.open('./now/my_photo/my photo.jpg')\n",
    "image2 = im.open('./now/my_photo/my photo.jpg')\n",
    "vid_arr[0] = cv2.resize(asarray(image1), (1056, 1056))\n",
    "vid_arr[1] = cv2.resize(asarray(image2), (1056, 1056))\n",
    "\n",
    "\n",
    "\n",
    "model = UNET((6, 1056, 1056))\n",
    "model.load_weights('./model_weights_for 512x256 5ep simple unet/model_weights.hdf5')\n",
    "\n",
    "\n",
    "\n",
    "  \n",
    "pred = model.predict(np.expand_dims(np.transpose(np.concatenate((vid_arr[0], vid_arr[1]), axis=2)/255., (2,0,1)), axis=0))\n",
    "res = (np.transpose(pred[0], (1, 2, 0))*255).astype(\"uint8\")\n",
    "img = im.fromarray(res)\n",
    "img.save('./experiments/same/out.png')\n",
    "\n"
   ]
  },
  {
   "cell_type": "code",
   "execution_count": 30,
   "metadata": {},
   "outputs": [
    {
     "name": "stdout",
     "output_type": "stream",
     "text": [
      "35.520395982600434 , 0.9550016645116387\n"
     ]
    }
   ],
   "source": [
    "gt = cv2.imread('./now/my_photo/my photo.jpg')\n",
    "gt_res = cv2.resize(gt, (1056, 1056))\n",
    "pre = cv2.imread('./experiments/same/out.png')\n",
    "calculateMetrics(pre, gt_res)"
   ]
  },
  {
   "cell_type": "code",
   "execution_count": 32,
   "metadata": {},
   "outputs": [
    {
     "name": "stdout",
     "output_type": "stream",
     "text": [
      "[  0   1   2   3   4   5   6   7   8   9  10  11  12  13  14  15  16  17\n",
      "  18  19  20  21  22  23  24  25  26  27  28  29  30  31  32  33  34  35\n",
      "  36  37  38  39  40  41  42  43  44  45  46  47  48  49  50  51  52  53\n",
      "  54  55  56  57  58  59  60  61  62  63  64  65  66  69  70  71  72  73\n",
      "  74  75  76  78  80  81  82  83  84  85  86  87  88  89  90  93  94  96\n",
      "  98 195 201 202 203 205 206 207 208 209 210 211 212 213 214 215 216 217\n",
      " 218 219 220 221 222 223 224 225 226 227 228 229 230 231 232 233 234 235\n",
      " 236 237 238 239 240 241 242 243 244 245 246 247 248 249 250 251 252 253\n",
      " 254 255]\n",
      "[414399 514506 440916 192031  86022  66385  53941  44287  37073  31340\n",
      "  26751  22752  18920  16142  13916  11607   9928   8552   7018   5980\n",
      "   4884   4101   3247   2611   2199   1683   1344   1076    861    667\n",
      "    538    393    324    262    199    141    111     81     69     52\n",
      "     46     33     24     27     26     17      9     17      5      8\n",
      "     22      7      9      3      7      9      3      4      5      4\n",
      "      3      1      5      4      6      4      1      2      1      2\n",
      "      1      2      2      1      3      1      3      2      1      1\n",
      "      1      1      2      1      1      1      1      1      1      1\n",
      "      1      1      1      1      1      1      6      2      1      5\n",
      "      8      7     14     22     26     45     53     72    117    158\n",
      "    206    243    326    406    527    646    790   1001   1162   1413\n",
      "   1626   1944   2145   2497   2833   3137   3440   3933   4278   5460\n",
      "   5657   6214   6891   7793   8976  10250  12398  15526  19429  25896\n",
      "  34611  70685 100845 215498 324287 394246]\n"
     ]
    },
    {
     "data": {
      "text/plain": [
       "Text(0.5, 1.0, 'Average')"
      ]
     },
     "execution_count": 32,
     "metadata": {},
     "output_type": "execute_result"
    },
    {
     "data": {
      "image/png": "[encoded data removed]",
      "text/plain": [
       "<Figure size 432x288 with 2 Axes>"
      ]
     },
     "metadata": {
      "needs_background": "light"
     },
     "output_type": "display_data"
    }
   ],
   "source": [
    "import cv2\n",
    "from PIL import Image\n",
    "import matplotlib.pyplot as plt\n",
    "gt = cv2.imread('./now/my_photo/my photo.jpg')\n",
    "gt_res = cv2.resize(gt, (1056, 1056))\n",
    "gt = cv2.cvtColor(gt_res, cv2.COLOR_BGR2RGB)\n",
    "image = cv2.imread(f\"./experiments/same/out.png\")\n",
    "image = cv2.cvtColor(image, cv2.COLOR_BGR2RGB)\n",
    "import numpy as np\n",
    "diff = np.absolute(np.array(gt) - np.array(image))\n",
    "unique, counts = np.unique(diff, return_counts=True)\n",
    "print(unique)\n",
    "print(counts)\n",
    "f, ax = plt.subplots(1,2)\n",
    "ax[0].imshow(gt)\n",
    "ax[0].set_title(\"GT\")\n",
    "ax[1].imshow(image)\n",
    "ax[1].set_title(\"Average\")"
   ]
  },
  {
   "cell_type": "code",
   "execution_count": 33,
   "metadata": {},
   "outputs": [],
   "source": [
    "from PIL import Image\n",
    "def adjuster(r1, r2, diff):\n",
    "  mask1 = np.where((diff >= r1) & (diff < (r1 + 1)))\n",
    "  mask2 = np.where((diff >= r2) & (diff < (r2 + 1)))\n",
    "  print(mask1[0].size, mask2[0].size)\n",
    "  image[mask1] += r1\n",
    "  image[mask2] -= r1\n",
    "  diff_array = np.absolute(np.array(gt) - np.array(image))\n",
    "  unique, counts = np.unique(diff_array, return_counts=True)\n",
    "  print(unique)\n",
    "  print(counts)\n",
    "  print(f\"For Val: {r1} and {r2 - 256}\")\n",
    "  calculateMetrics(gt, image)\n",
    "  modified_img = Image.fromarray(image, 'RGB')\n",
    "  modified_img.save(f\"./experiments/same/{r1}.png\")\n",
    "  # f, ax = plt.subplots(1,2)\n",
    "  # ax[0].set_title(\"GT\")\n",
    "  # ax[0].imshow(gt)\n",
    "  # ax[1].set_title(f\"Modified by {r1} pix\")\n",
    "  # ax[1].imshow(modified_img)\n"
   ]
  },
  {
   "cell_type": "code",
   "execution_count": 1,
   "metadata": {},
   "outputs": [
    {
     "ename": "NameError",
     "evalue": "name 'adjuster' is not defined",
     "output_type": "error",
     "traceback": [
      "\u001b[1;31m---------------------------------------------------------------------------\u001b[0m",
      "\u001b[1;31mNameError\u001b[0m                                 Traceback (most recent call last)",
      "\u001b[1;32md:\\Fusion\\experiments.ipynb Cell 14'\u001b[0m in \u001b[0;36m<cell line: 1>\u001b[1;34m()\u001b[0m\n\u001b[0;32m      <a href='vscode-notebook-cell:/d%3A/Fusion/experiments.ipynb#ch0000013?line=0'>1</a>\u001b[0m \u001b[39mfor\u001b[39;00m i \u001b[39min\u001b[39;00m \u001b[39mreversed\u001b[39m(\u001b[39mrange\u001b[39m(\u001b[39m222\u001b[39m, \u001b[39m256\u001b[39m)):\n\u001b[1;32m----> <a href='vscode-notebook-cell:/d%3A/Fusion/experiments.ipynb#ch0000013?line=1'>2</a>\u001b[0m   adjuster(\u001b[39m256\u001b[39m \u001b[39m-\u001b[39m i, i, diff)\n",
      "\u001b[1;31mNameError\u001b[0m: name 'adjuster' is not defined"
     ]
    }
   ],
   "source": [
    "for i in reversed(range(222, 256)):\n",
    "  adjuster(256 - i, i, diff)"
   ]
  },
  {
   "cell_type": "code",
   "execution_count": null,
   "metadata": {},
   "outputs": [
    {
     "name": "stdout",
     "output_type": "stream",
     "text": [
      "40.446642668100964 , 0.9877105099770264\n"
     ]
    }
   ],
   "source": [
    "gt = cv2.imread('./now/my_photo/my photo.jpg')\n",
    "gt_res = cv2.resize(gt, (1056, 1056))\n",
    "pre = cv2.imread('./experiments/same/eash_nc.png')\n",
    "calculateMetrics(pre, gt_res)"
   ]
  },
  {
   "cell_type": "code",
   "execution_count": 1,
   "metadata": {},
   "outputs": [],
   "source": [
    "import sys\n",
    "import os\n",
    "import cv2\n",
    "import tensorflow.keras.backend as K\n",
    "import numpy as np\n",
    "from numpy import asarray\n",
    "from core.networks_simple import UNET\n",
    "from PIL import Image as im\n",
    "K.set_image_data_format('channels_first')\n",
    "os.environ['KERAS_BACKEND'] = \"tensorflow\"\n",
    "\n",
    "\n",
    "\n",
    "\n",
    "# print(len(res))\n",
    "vid_arr = np.zeros(shape=(2, 1600, 1600, 3), dtype=\"uint8\")\n",
    "image1 = im.open('./experiments/diff_photo/000.jpeg')\n",
    "image2 = im.open('./experiments/diff_photo/051.jpeg')\n",
    "vid_arr[0] = cv2.resize(asarray(image1), (1600, 1600))\n",
    "vid_arr[1] = cv2.resize(asarray(image2), (1600, 1600))\n",
    "\n",
    "\n",
    "\n",
    "model = UNET((6, 1600, 1600))\n",
    "model.load_weights('./model_weights_for 512x256 5ep simple unet/model_weights.hdf5')\n",
    "\n",
    "\n",
    "\n",
    "  \n",
    "pred = model.predict(np.expand_dims(np.transpose(np.concatenate((vid_arr[0], vid_arr[1]), axis=2)/255., (2,0,1)), axis=0))\n",
    "res = (np.transpose(pred[0], (1, 2, 0))*255).astype(\"uint8\")\n",
    "img = im.fromarray(res)\n",
    "img.save('./experiments/diff_photo/out.png')\n"
   ]
  },
  {
   "cell_type": "code",
   "execution_count": 2,
   "metadata": {},
   "outputs": [],
   "source": [
    "\n",
    "\n",
    "\n",
    "def recursive(frame1, frame2, num_recursions):\n",
    "  if num_recursions == 0:\n",
    "    yield frame1\n",
    "  else:\n",
    "    # Adds the batch dimension to all inputs before calling the interpolator,\n",
    "    # and remove it afterwards.\n",
    "    # time = np.full(shape=(1,), fill_value=0.5, dtype=np.float32)\n",
    "    pred = model.predict(np.expand_dims(np.transpose(np.concatenate((frame1, frame2), axis=2)/255., (2,0,1)), axis=0))\n",
    "    mid_frame = (np.transpose(pred[0], (1, 2, 0))*255).astype(\"uint8\")\n",
    "    yield from recursive(frame1, mid_frame, num_recursions - 1)\n",
    "    yield from recursive(mid_frame, frame2, num_recursions - 1)\n"
   ]
  },
  {
   "cell_type": "code",
   "execution_count": 3,
   "metadata": {},
   "outputs": [],
   "source": [
    "\n",
    "\n",
    "\n",
    "result = list(recursive(vid_arr[0], vid_arr[1], 6))\n",
    "result.append(vid_arr[1])\n",
    "len(result)\n",
    "for i,img in enumerate(result):\n",
    "  image = im.fromarray(img)\n",
    "  image.save(f'./experiments/diff_photo/rec/{i}.png')\n"
   ]
  },
  {
   "cell_type": "code",
   "execution_count": 8,
   "metadata": {},
   "outputs": [],
   "source": [
    "import sys\n",
    "import os\n",
    "import cv2\n",
    "import tensorflow.keras.backend as K\n",
    "import numpy as np\n",
    "from numpy import asarray\n",
    "from core.networks_simple import UNET\n",
    "from PIL import Image as im\n",
    "K.set_image_data_format('channels_first')\n",
    "os.environ['KERAS_BACKEND'] = \"tensorflow\"\n",
    "\n",
    "\n",
    "\n",
    "\n",
    "# print(len(res))\n",
    "vid_arr = np.zeros(shape=(2, 1056, 1056, 3), dtype=\"uint8\")\n",
    "image1 = im.open('./experiments/same-artificial/000.png')\n",
    "image2 = im.open('./experiments/same-artificial/002.png')\n",
    "vid_arr[0] = cv2.resize(asarray(image1), (1056, 1056))\n",
    "vid_arr[1] = cv2.resize(asarray(image2), (1056, 1056))\n",
    "\n",
    "\n",
    "\n",
    "model = UNET((6, 1056, 1056))\n",
    "model.load_weights('./model_weights_for 512x256 5ep simple unet/model_weights.hdf5')\n",
    "\n",
    "\n",
    "\n",
    "  \n",
    "pred = model.predict(np.expand_dims(np.transpose(np.concatenate((vid_arr[0], vid_arr[1]), axis=2)/255., (2,0,1)), axis=0))\n",
    "res = (np.transpose(pred[0], (1, 2, 0))*255).astype(\"uint8\")\n",
    "img = im.fromarray(res)\n",
    "img.save('./experiments/same-artificial/out.png')\n"
   ]
  },
  {
   "cell_type": "code",
   "execution_count": 9,
   "metadata": {},
   "outputs": [
    {
     "name": "stdout",
     "output_type": "stream",
     "text": [
      "31.959964431255045 , 0.19221051576777248\n"
     ]
    }
   ],
   "source": [
    "gt = cv2.imread('./experiments/same-artificial/000.png')\n",
    "gt_res = cv2.resize(gt, (1056, 1056))\n",
    "pre = cv2.imread('./experiments/same-artificial/out.png')\n",
    "calculateMetrics(pre, gt_res)"
   ]
  }
 ],
 "metadata": {
  "interpreter": {
   "hash": "718d2fdbd2e4364d86b82e2681e711484f5b3e9195c217f68eb9a5465be33cfe"
  },
  "kernelspec": {
   "display_name": "Python 3.9.7 ('SuperSloMo')",
   "language": "python",
   "name": "python3"
  },
  "language_info": {
   "codemirror_mode": {
    "name": "ipython",
    "version": 3
   },
   "file_extension": ".py",
   "mimetype": "text/x-python",
   "name": "python",
   "nbconvert_exporter": "python",
   "pygments_lexer": "ipython3",
   "version": "3.9.7"
  },
  "orig_nbformat": 4
 },
 "nbformat": 4,
 "nbformat_minor": 2
}
