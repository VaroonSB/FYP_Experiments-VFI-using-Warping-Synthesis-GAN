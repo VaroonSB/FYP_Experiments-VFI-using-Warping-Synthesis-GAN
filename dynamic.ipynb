{
 "cells": [
  {
   "cell_type": "markdown",
   "metadata": {},
   "source": [
    "#Synthesis"
   ]
  },
  {
   "cell_type": "code",
   "execution_count": 2,
   "metadata": {},
   "outputs": [],
   "source": [
    "import sys\n",
    "import os\n",
    "import cv2\n",
    "import tensorflow.keras.backend as K\n",
    "import numpy as np\n",
    "from numpy import asarray\n",
    "from core.networks_simple import UNET\n",
    "from PIL import Image as im\n",
    "K.set_image_data_format('channels_first')\n",
    "os.environ['KERAS_BACKEND'] = \"tensorflow\"\n",
    "\n",
    "def Synthesis(width, height,path1, path2):\n",
    "  res_arr = []\n",
    "  vid_arr = np.zeros(shape=(2, height, width, 3), dtype=\"uint8\")\n",
    "  # image1 = im.open(path1)\n",
    "  image1 = cv2.cvtColor(cv2.imread(path1), cv2.COLOR_BGR2RGB)\n",
    "  # image2 = im.open(path2)\n",
    "  image2 = cv2.cvtColor(cv2.imread(path2), cv2.COLOR_BGR2RGB)\n",
    "  vid_arr[0] = cv2.resize(asarray(image1), (width, height))\n",
    "  vid_arr[1] = cv2.resize(asarray(image2), (width, height))\n",
    "  model = UNET((6, height, width))\n",
    "  model.load_weights('./model_weights_for 512x256 5ep simple unet/model_weights.hdf5')\n",
    "  pred = model.predict(np.expand_dims(np.transpose(np.concatenate((vid_arr[0], vid_arr[1]), axis=2)/255., (2,0,1)), axis=0))\n",
    "  res = (np.transpose(pred[0], (1, 2, 0))*255).astype(\"uint8\")\n",
    "  # img = im.fromarray(res)\n",
    "  # img.save(out_path)\n",
    "  res_arr.append(res)\n",
    "  return res_arr\n"
   ]
  },
  {
   "cell_type": "code",
   "execution_count": 3,
   "metadata": {},
   "outputs": [],
   "source": [
    "def Synthesis_rec(path1, path2, n, last):\n",
    "  image1 = cv2.cvtColor(cv2.imread(path1), cv2.COLOR_BGR2RGB)\n",
    "  image2 = cv2.cvtColor(cv2.imread(path2), cv2.COLOR_BGR2RGB)\n",
    "  height, width, _ = image1.shape\n",
    "  vid_arr = np.zeros(shape=(2, height, width, 3), dtype=\"uint8\")\n",
    "  vid_arr[0] = cv2.resize(asarray(image1), (width, height))\n",
    "  vid_arr[1] = cv2.resize(asarray(image2), (width, height))\n",
    "  model = UNET((6, height, width))\n",
    "  model.load_weights('./model_weights_for 512x256 5ep simple unet/model_weights.hdf5')\n",
    "  def recursive_calls(frame1, frame2, num_recursions):\n",
    "    if num_recursions == 0:\n",
    "      yield frame1\n",
    "    else:\n",
    "      pred = model.predict(np.expand_dims(np.transpose(np.concatenate((frame1, frame2), axis=2)/255., (2,0,1)), axis=0))\n",
    "      mid_frame = (np.transpose(pred[0], (1, 2, 0))*255).astype(\"uint8\")\n",
    "      yield from recursive_calls(frame1, mid_frame, num_recursions - 1)\n",
    "      yield from recursive_calls(mid_frame, frame2, num_recursions - 1)\n",
    "  result = list(recursive_calls(vid_arr[0], vid_arr[1], n))\n",
    "  if last:\n",
    "    result.append(vid_arr[1])\n",
    "  return result\n",
    "  # for i,img in enumerate(result):\n",
    "  #   image = im.fromarray(img)\n",
    "  #   image.save(f'./{out_path}/{i}.png')"
   ]
  },
  {
   "cell_type": "markdown",
   "metadata": {},
   "source": [
    "#UTILS"
   ]
  },
  {
   "cell_type": "code",
   "execution_count": 5,
   "metadata": {},
   "outputs": [],
   "source": [
    "from PIL import Image\n",
    "import glob\n",
    "def helper(path):\n",
    "  for filename in glob.glob(f'{path}/*.png'):\n",
    "    img = Image.open(filename)\n",
    "    w, h = img.size\n",
    "    print(f\"Original Size: Width-{w} Height-{h}\")\n",
    "    w = int(w / 32) * 32\n",
    "    h = int(h / 32) * 32\n",
    "    print(f\"Modified Size: Width-{w} Height-{h}\")\n",
    "    resized_img = img.resize((w, h), Image.ANTIALIAS)\n",
    "    resized_img.save(filename)"
   ]
  },
  {
   "cell_type": "code",
   "execution_count": 6,
   "metadata": {},
   "outputs": [
    {
     "name": "stdout",
     "output_type": "stream",
     "text": [
      "Original Size: Width-352 Height-640\n",
      "Modified Size: Width-352 Height-640\n",
      "Original Size: Width-352 Height-640\n",
      "Modified Size: Width-352 Height-640\n"
     ]
    }
   ],
   "source": [
    "path = './Drive/realtime/'\n",
    "helper(path)"
   ]
  },
  {
   "cell_type": "markdown",
   "metadata": {},
   "source": [
    "#Metrics"
   ]
  },
  {
   "cell_type": "code",
   "execution_count": 7,
   "metadata": {},
   "outputs": [],
   "source": [
    "import math\n",
    "from skimage.metrics import structural_similarity as compare_ssim\n",
    "def calculateMetrics(gt, result):\n",
    "  psnr(gt, result)\n",
    "  ssim = calculate_ssim(gt, result)\n",
    "  print(f\"SSIM: {ssim}%\")\n",
    "\n",
    "def psnr(img1, img2):\n",
    "  mse = np.mean((img1 - img2) ** 2)\n",
    "  if mse == 0:\n",
    "    return 100\n",
    "  # print(f\"MSE: {mse}\")\n",
    "  PIXEL_MAX = 255.0\n",
    "  psnr_val = 20 * math.log10(PIXEL_MAX / math.sqrt(mse))\n",
    "  print(f\"PSNR: {psnr_val}\")\n",
    "  return psnr_val\n",
    "\n",
    "def calculate_ssim(gt, result):\n",
    "  grayGT = cv2.cvtColor(gt, cv2.COLOR_BGR2GRAY)\n",
    "  grayRes = cv2.cvtColor(result, cv2.COLOR_BGR2GRAY)\n",
    "  (score, diff) = compare_ssim(grayGT, grayRes, full=True)\n",
    "  diff = (diff * 255).astype(\"uint8\")\n",
    "  return score"
   ]
  },
  {
   "cell_type": "markdown",
   "metadata": {},
   "source": [
    "#Color Correction"
   ]
  },
  {
   "cell_type": "code",
   "execution_count": 8,
   "metadata": {},
   "outputs": [],
   "source": [
    "from PIL import Image\n",
    "def adjuster(r1, r2, diff, gt, image):\n",
    "  mask1 = np.where((diff >= r1) & (diff < (r1 + 1)))\n",
    "  mask2 = np.where((diff >= r2) & (diff < (r2 + 1)))\n",
    "  print(mask1[0].size, mask2[0].size)\n",
    "  image[mask1] += r1\n",
    "  image[mask2] -= r1\n",
    "  diff_array = np.absolute(np.array(gt) - np.array(image))\n",
    "  unique, counts = np.unique(diff_array, return_counts=True)\n",
    "  print(unique)\n",
    "  print(counts)\n",
    "  print(f\"For Val: {r1} and {r2 - 256}\")\n",
    "  calculateMetrics(gt, image)\n",
    "  modified_img = Image.fromarray(image, 'RGB')\n",
    "  return modified_img"
   ]
  },
  {
   "cell_type": "markdown",
   "metadata": {},
   "source": [
    "Dynamic Interpolation"
   ]
  },
  {
   "cell_type": "code",
   "execution_count": 9,
   "metadata": {},
   "outputs": [
    {
     "name": "stdout",
     "output_type": "stream",
     "text": [
      "PSNR: 35.717255085878634\n"
     ]
    }
   ],
   "source": [
    "path1 = './Drive/realtime/out-001.png'\n",
    "path2 = './Drive/realtime/out-003.png'\n",
    "img1 = cv2.imread(path1)\n",
    "img2 = cv2.imread(path2)\n",
    "psnr_val = psnr(img1, img2)"
   ]
  },
  {
   "cell_type": "code",
   "execution_count": 10,
   "metadata": {},
   "outputs": [],
   "source": [
    "def dynamic_rec(path1, path2, last):\n",
    "  img1 = cv2.imread(path1)\n",
    "  img2 = cv2.imread(path2)\n",
    "  psnr_val = psnr(img1, img2)\n",
    "  height, width, _ = img1.shape\n",
    "  print(psnr_val)\n",
    "  result = []\n",
    "  if(psnr_val > 38):\n",
    "    res = Synthesis_rec(path1, path2, 1, last) #Synthesis(width, height, path1, path2)\n",
    "  elif(psnr_val > 35 and psnr_val <= 38):\n",
    "    res = Synthesis_rec(path1, path2, 2, last)\n",
    "  elif(psnr_val > 32 and psnr_val <= 35):\n",
    "    res = Synthesis_rec(path1, path2, 3, last)\n",
    "  elif(psnr_val > 30 and psnr_val <= 32):\n",
    "    res = Synthesis_rec(path1, path2, 4, last)\n",
    "  elif(psnr_val > 27 and psnr_val <= 30):\n",
    "    res = Synthesis_rec(path1, path2, 5, last)\n",
    "  elif(psnr_val <= 27):\n",
    "    res = Synthesis_rec(path1, path2, 6, last)\n",
    "  for i in res:\n",
    "    result.append(i)\n",
    "  return result"
   ]
  },
  {
   "cell_type": "markdown",
   "metadata": {},
   "source": [
    "#Runner"
   ]
  },
  {
   "cell_type": "code",
   "execution_count": 13,
   "metadata": {},
   "outputs": [
    {
     "name": "stdout",
     "output_type": "stream",
     "text": [
      "./Drive/realtime/out-001.png ./Drive/realtime/out-003.png\n",
      "PSNR: 35.717255085878634\n",
      "35.717255085878634\n"
     ]
    }
   ],
   "source": [
    "import os\n",
    "directory = './Drive/realtime'\n",
    "out_path = './Drive/realtime'\n",
    "frameNames = []\n",
    "for file in os.listdir(directory):\n",
    "  frameNames.append(file)\n",
    "# print(frameNames)\n",
    "result = []\n",
    "last = False\n",
    "for i in range(len(frameNames)-1):\n",
    "  print(directory+'/'+frameNames[i], directory+'/'+frameNames[i+1])\n",
    "  if(i == len(frameNames)-2):\n",
    "    last = True\n",
    "  res = dynamic_rec(directory+'/'+frameNames[i], directory+'/'+frameNames[i+1], last)\n",
    "  for i in res:\n",
    "    result.append(i)\n",
    "for i,img in enumerate(result):\n",
    "  image = im.fromarray(img)\n",
    "  image.save(f'./{out_path}/{i}.png')\n"
   ]
  }
 ],
 "metadata": {
  "interpreter": {
   "hash": "718d2fdbd2e4364d86b82e2681e711484f5b3e9195c217f68eb9a5465be33cfe"
  },
  "kernelspec": {
   "display_name": "Python 3.9.7 ('SuperSloMo')",
   "language": "python",
   "name": "python3"
  },
  "language_info": {
   "codemirror_mode": {
    "name": "ipython",
    "version": 3
   },
   "file_extension": ".py",
   "mimetype": "text/x-python",
   "name": "python",
   "nbconvert_exporter": "python",
   "pygments_lexer": "ipython3",
   "version": "3.9.7"
  },
  "orig_nbformat": 4
 },
 "nbformat": 4,
 "nbformat_minor": 2
}
